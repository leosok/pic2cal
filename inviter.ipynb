{
 "cells": [
  {
   "cell_type": "code",
   "execution_count": 8,
   "metadata": {},
   "outputs": [
    {
     "name": "stdout",
     "output_type": "stream",
     "text": [
      "Requirement already satisfied: python-dotenv in /Users/leonidsokolov/.pyenv/versions/3.10.12/lib/python3.10/site-packages (1.0.1)\n",
      "\n",
      "\u001b[1m[\u001b[0m\u001b[34;49mnotice\u001b[0m\u001b[1;39;49m]\u001b[0m\u001b[39;49m A new release of pip is available: \u001b[0m\u001b[31;49m23.0.1\u001b[0m\u001b[39;49m -> \u001b[0m\u001b[32;49m24.1.2\u001b[0m\n",
      "\u001b[1m[\u001b[0m\u001b[34;49mnotice\u001b[0m\u001b[1;39;49m]\u001b[0m\u001b[39;49m To update, run: \u001b[0m\u001b[32;49mpip install --upgrade pip\u001b[0m\n"
     ]
    },
    {
     "data": {
      "text/plain": [
       "True"
      ]
     },
     "execution_count": 8,
     "metadata": {},
     "output_type": "execute_result"
    }
   ],
   "source": [
    "!pip install python-dotenv\n",
    "# set environment variables\n",
    "import os\n",
    "from dotenv import load_dotenv\n",
    "# self.login = os.getenv('EMAIL_LOGIN')\n",
    "# self.password = os.getenv('EMAIL_PASSWORD')\n",
    "# self.smtp_server = os.getenv('SMTP_SERVER')\n",
    "# self.smtp_port = int(os.getenv('SMTP_PORT', 587))  # Default SMTP port is set to 587\n",
    "\n",
    "load_dotenv()"
   ]
  },
  {
   "cell_type": "code",
   "execution_count": 16,
   "metadata": {},
   "outputs": [],
   "source": [
    "import smtplib\n",
    "import datetime\n",
    "import os\n",
    "from email.mime.multipart import MIMEMultipart\n",
    "from email.mime.base import MIMEBase\n",
    "from email.mime.text import MIMEText\n",
    "from email.utils import formatdate\n",
    "from email import encoders\n",
    "\n",
    "class EmailCalendarInvite:\n",
    "    CRLF = \"\\r\\n\"\n",
    "\n",
    "    def __init__(self):\n",
    "        # Retrieve SMTP configuration from environment variables\n",
    "        self.login = os.getenv('EMAIL_LOGIN')\n",
    "        self.password = os.getenv('EMAIL_PASSWORD')\n",
    "        self.smtp_server = os.getenv('SMTP_SERVER')\n",
    "        self.smtp_port = int(os.getenv('SMTP_PORT', 587))  # Default SMTP port is set to 587\n",
    "\n",
    "    def create_invite(self, attendees, subject, body, start, organizer='organizer', description=None, duration=None, end=None):\n",
    "        if end is None:\n",
    "            if duration is None:\n",
    "                duration = datetime.timedelta(minutes=30)\n",
    "            end = start + duration\n",
    "\n",
    "        organizer = f\"ORGANIZER;CN={organizer}\" + self.CRLF\n",
    "        fro_m = f\"{os.getenv('FROM_NAME', 'nickname')} <{self.login}>\"\n",
    "\n",
    "        dtstart = start.strftime(\"%Y%m%dT%H%M%SZ\")\n",
    "        dtend = end.strftime(\"%Y%m%dT%H%M%SZ\")\n",
    "        dtstamp = datetime.datetime.now().strftime(\"%Y%m%dT%H%M%SZ\")\n",
    "\n",
    "        description = \"DESCRIPTION: \" + description + self.CRLF\n",
    "        attendee = \"\"\n",
    "        for att in attendees:\n",
    "            attendee += f\"ATTENDEE;CUTYPE=INDIVIDUAL;ROLE=REQ-PARTICIPANT;PARTSTAT=ACCEPTED;RSVP=TRUE{self.CRLF};CN={att};X-NUM-GUESTS=0:{self.CRLF}mailto:{att}{self.CRLF}\"\n",
    "\n",
    "        ical = (\"BEGIN:VCALENDAR\" + self.CRLF + \"PRODID:pyICSParser\" + self.CRLF + \"VERSION:2.0\" + self.CRLF + \n",
    "                \"CALSCALE:GREGORIAN\" + self.CRLF + \"METHOD:REQUEST\" + self.CRLF + \"BEGIN:VEVENT\" + self.CRLF +\n",
    "                f\"DTSTART:{dtstart}\" + self.CRLF + f\"DTEND:{dtend}\" + self.CRLF + f\"DTSTAMP:{dtstamp}\" + self.CRLF +\n",
    "                organizer + self.CRLF + f\"UID:FIXMEUID{dtstamp}\" + self.CRLF + attendee + \"CREATED:\" + dtstamp +\n",
    "                self.CRLF + description + \"LAST-MODIFIED:\" + dtstamp + self.CRLF + \"LOCATION:\" + self.CRLF +\n",
    "                \"SEQUENCE:0\" + self.CRLF + \"STATUS:CONFIRMED\" + self.CRLF + \"SUMMARY: \"+ subject+ self.CRLF + \"TRANSP:OPAQUE\" + self.CRLF +\n",
    "                \"END:VEVENT\" + self.CRLF + \"END:VCALENDAR\" + self.CRLF)\n",
    "\n",
    "        msg = MIMEMultipart('mixed')\n",
    "        msg['Reply-To'] = fro_m\n",
    "        msg['Date'] = formatdate(localtime=True)\n",
    "        msg['Subject'] = subject\n",
    "        msg['From'] = fro_m\n",
    "        msg['To'] = \",\".join(attendees)\n",
    "\n",
    "        part_email = MIMEText(body, \"html\")\n",
    "        part_cal = MIMEText(ical, 'calendar;method=REQUEST')\n",
    "\n",
    "        msgAlternative = MIMEMultipart('alternative')\n",
    "        msg.attach(msgAlternative)\n",
    "        msgAlternative.attach(part_email)\n",
    "        msgAlternative.attach(part_cal)\n",
    "\n",
    "        ical_atch = MIMEBase('application/ics', ' ;name=\"%s\"' % (\"invite.ics\"))\n",
    "        ical_atch.set_payload(ical)\n",
    "        encoders.encode_base64(ical_atch)\n",
    "        ical_atch.add_header('Content-Disposition', 'attachment; filename=\"%s\"' % (\"invite.ics\"))\n",
    "\n",
    "        msg.attach(ical_atch)\n",
    "        return msg\n",
    "\n",
    "    def send_invite(self, attendees, msg):\n",
    "        with smtplib.SMTP(self.smtp_server, self.smtp_port) as server:\n",
    "            server.ehlo()\n",
    "            server.starttls()\n",
    "            server.login(self.login, self.password)\n",
    "            server.sendmail(msg['From'], attendees, msg.as_string())\n",
    "\n",
    "# Example of using the class\n",
    "\n",
    "if __name__ == \"__main__\":\n",
    "    attendees = []#[\"leonid.sokolov@big-picture.com\"]\n",
    "    subject = \"Frühstücken\"\n",
    "    organizer = \"Leonid Sokolov <l.sokolov@gmx.de>\"\n",
    "    body = \"Email body visible in the invite of outlook and outlook.com but not google calendar\"\n",
    "    start = datetime.datetime.now() + datetime.timedelta(minutes=25)\n",
    "\n",
    "    inviter = EmailCalendarInvite()\n",
    "\n",
    "    attendees.append(input(\"Enter the email address of the attendee: \"))\n",
    "\n",
    "    msg = inviter.create_invite(attendees, subject, body, start, description=\"Viel besser so!\")\n",
    "    inviter.send_invite(attendees, msg)\n"
   ]
  },
  {
   "cell_type": "code",
   "execution_count": null,
   "metadata": {},
   "outputs": [],
   "source": []
  },
  {
   "cell_type": "code",
   "execution_count": null,
   "metadata": {},
   "outputs": [],
   "source": []
  }
 ],
 "metadata": {
  "kernelspec": {
   "display_name": "Python 3",
   "language": "python",
   "name": "python3"
  },
  "language_info": {
   "codemirror_mode": {
    "name": "ipython",
    "version": 3
   },
   "file_extension": ".py",
   "mimetype": "text/x-python",
   "name": "python",
   "nbconvert_exporter": "python",
   "pygments_lexer": "ipython3",
   "version": "3.10.12"
  }
 },
 "nbformat": 4,
 "nbformat_minor": 2
}
